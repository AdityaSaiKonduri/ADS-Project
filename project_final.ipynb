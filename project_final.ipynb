{
  "cells": [
    {
      "cell_type": "markdown",
      "metadata": {
        "id": "9QCuTiC41iJD"
      },
      "source": [
        "# ***IMAGE CLASSIFICATION***"
      ]
    },
    {
      "cell_type": "code",
      "execution_count": 31,
      "metadata": {
        "id": "ERcfoFWbyZAO"
      },
      "outputs": [],
      "source": [
        "import tensorflow as tf\n",
        "from tensorflow.keras import datasets,layers,models\n",
        "import matplotlib.pyplot as plt\n",
        "import numpy as np\n",
        "import os\n",
        "import random\n",
        "from sklearn.model_selection import train_test_split\n",
        "import cv2\n",
        "import imghdr\n",
        "from PIL import Image"
      ]
    },
    {
      "cell_type": "markdown",
      "metadata": {
        "id": "bHQs0OR0yh58"
      },
      "source": [
        "#DATASET\n",
        "\n",
        "\n",
        "# 1.   DATA COLLECTION\n",
        "\n",
        "1.   The data has been collected in a total of 4 classes which are animals,   humans,plants and non-living things.\n",
        "2.   A total of 1278 images have been manually or collected from google images 320 approximately from each class.\n",
        "\n",
        "# 2. DATA PREPROCESSING  \n",
        "\n",
        "\n",
        "1.   Data Cleaning : The images which are duplicate or not of the necessary format are removed.\n",
        "2.   All the images are then converted to jpg, renamed in an order and then reduced to same size 32x32 pixels to help improve the accuracy.\n",
        "\n",
        "# 3. DATA AUGMENTATION\n",
        "\n",
        "1. Data augmentation is widely used in computer vision tasks, such as image classification, object detection ,segmentation etc.\n",
        "2. This process implements a data augmentation technique namely flipping which involves mirroring the image horizontally or vertically or both.\n",
        "\n",
        "\n",
        "\n",
        "\n",
        "\n",
        "\n",
        "\n",
        "\n",
        "\n",
        "\n",
        "\n",
        "\n"
      ]
    },
    {
      "cell_type": "code",
      "execution_count": 32,
      "metadata": {
        "id": "fUUe-EeZyZAT"
      },
      "outputs": [],
      "source": [
        "data_dir = 'dataset' #THE DATASET IS AVAILABLE ON THE GITHUB PAGE, CHANGE THE FILE PATH ACCORDING TO YOUR LOCAL HOST"
      ]
    },
    {
      "cell_type": "code",
      "execution_count": 33,
      "metadata": {
        "id": "VJ9aIEIYCV5X"
      },
      "outputs": [],
      "source": [
        "image_exts = ['jpeg', 'jpg', 'png']"
      ]
    },
    {
      "cell_type": "code",
      "execution_count": 34,
      "metadata": {
        "id": "hyWJu-iWCWf9"
      },
      "outputs": [],
      "source": [
        "for image_class in os.listdir(data_dir):\n",
        "    for image in os.listdir(os.path.join(data_dir, image_class)):\n",
        "        image_path = os.path.join(data_dir, image_class, image)\n",
        "        try:\n",
        "            tip = imghdr.what(image_path)\n",
        "            if tip not in image_exts:\n",
        "                print('Image not in ext list {}'.format(image_path))\n",
        "                os.remove(image_path)\n",
        "        except Exception as e:\n",
        "            print('Issue with image {}'.format(image_path))"
      ]
    },
    {
      "cell_type": "code",
      "execution_count": 35,
      "metadata": {
        "id": "qavAQ1V2yZAU"
      },
      "outputs": [],
      "source": [
        "data=[]\n",
        "labels=[]"
      ]
    },
    {
      "cell_type": "code",
      "execution_count": 36,
      "metadata": {
        "colab": {
          "base_uri": "https://localhost:8080/",
          "height": 246
        },
        "id": "9zfXp2ibyZAV",
        "outputId": "534f58ae-1d18-43f6-ee0b-7a5335e7b370"
      },
      "outputs": [],
      "source": [
        "augmentation_enabled = True\n",
        "num_augmented_images_per_original = 3\n",
        "\n",
        "def augment_image(img):\n",
        "    augmented_images = [img]\n",
        "    if augmentation_enabled:\n",
        "        augmented_images.append(cv2.flip(img, 1))\n",
        "        augmented_images.append(cv2.flip(img, 0))\n",
        "    return augmented_images\n",
        "\n",
        "classes = os.listdir(data_dir)\n",
        "\n",
        "for class_label in classes:\n",
        "    class_path = os.path.join(data_dir, class_label)\n",
        "    image_files = [os.path.join(class_path, img) for img in os.listdir(class_path) if img.endswith(\".jpg\") or img.endswith(\".jpeg\")]\n",
        "\n",
        "    for image_file in image_files:\n",
        "        img = cv2.imread(image_file)\n",
        "        img = cv2.resize(img, (32, 32))\n",
        "        data.append(img)\n",
        "        labels.append(class_label)\n",
        "\n",
        "        if augmentation_enabled:\n",
        "            augmented_images = augment_image(img)\n",
        "            for augmented_img in augmented_images:\n",
        "                data.append(augmented_img)\n",
        "                labels.append(class_label)\n",
        "                augmentation_enabled = True\n",
        "num_augmented_images_per_original = 3"
      ]
    },
    {
      "cell_type": "markdown",
      "metadata": {
        "id": "J58Ehm8C15BF"
      },
      "source": [
        "# **SPLITTING THE DATA INTO TRAINING DATASET AND TESTING DATASET**"
      ]
    },
    {
      "cell_type": "code",
      "execution_count": 37,
      "metadata": {
        "id": "U_Ax5O75yZAV"
      },
      "outputs": [],
      "source": [
        "train_data, test_data, train_labels, test_labels = train_test_split(data, labels, test_size=0.2, random_state=42)"
      ]
    },
    {
      "cell_type": "code",
      "execution_count": 38,
      "metadata": {
        "id": "jgq1Qw-lyZAW",
        "outputId": "b4e6705f-e13b-43af-abca-04da76889737"
      },
      "outputs": [
        {
          "name": "stdout",
          "output_type": "stream",
          "text": [
            "(4076, 32, 32, 3)\n"
          ]
        },
        {
          "data": {
            "text/plain": [
              "(1020, 32, 32, 3)"
            ]
          },
          "execution_count": 38,
          "metadata": {},
          "output_type": "execute_result"
        }
      ],
      "source": [
        "x_train=np.array(train_data)\n",
        "x_test=np.array(test_data)\n",
        "y_train=np.array(train_labels,dtype='uint8')\n",
        "y_test=np.array(test_labels,dtype='uint8')\n",
        "print(x_train.shape)\n",
        "x_test.shape"
      ]
    },
    {
      "cell_type": "code",
      "execution_count": 39,
      "metadata": {
        "id": "GQlpv3ZyyZAX",
        "outputId": "af2d91c5-e287-4f55-e695-80d28d93add0"
      },
      "outputs": [
        {
          "data": {
            "text/plain": [
              "array([0, 2, 0, 2, 0], dtype=uint8)"
            ]
          },
          "execution_count": 39,
          "metadata": {},
          "output_type": "execute_result"
        }
      ],
      "source": [
        "y_train = y_train.reshape(-1,)\n",
        "y_test = y_test.reshape(-1,)\n",
        "y_train[:5]\n",
        "y_test[:5]"
      ]
    },
    {
      "cell_type": "code",
      "execution_count": 40,
      "metadata": {
        "id": "AoSUne87yZAY"
      },
      "outputs": [],
      "source": [
        "lclasses = [\"Animals\",\"Humans\",\"Plants\",\"Non-Liv\"]"
      ]
    },
    {
      "cell_type": "code",
      "execution_count": 41,
      "metadata": {
        "id": "3Iz7jengyZAY"
      },
      "outputs": [],
      "source": [
        "def plot_sample(X, y, index):\n",
        "    plt.figure(figsize = (15,2))\n",
        "    plt.imshow(X[index],cmap='gray')\n",
        "    plt.xlabel(lclasses[y[index]])\n"
      ]
    },
    {
      "cell_type": "code",
      "execution_count": 42,
      "metadata": {
        "id": "OR34NxP6yZAZ",
        "outputId": "7cef6bb2-877a-4e8c-e0af-408582bdf6fe"
      },
      "outputs": [
        {
          "data": {
            "image/png": "[encoded data removed]",
            "text/plain": [
              "<Figure size 1500x200 with 1 Axes>"
            ]
          },
          "metadata": {},
          "output_type": "display_data"
        }
      ],
      "source": [
        "plot_sample(x_train, y_train, 1018)"
      ]
    },
    {
      "cell_type": "markdown",
      "metadata": {
        "id": "15CHI7lP2Pv7"
      },
      "source": [
        "# **NORMALIZING THE DATASET**\n",
        "Normalizing a dataset is a data preprocessing technique used to rescale the values of numerical features within a specific range, typically between 0 and 1 or -1 and 1. Normalization is performed to ensure that all features contribute equally to the analysis and that differences in the scale of features do not unduly influence machine learning algorithms. It is particularly important for algorithms that are sensitive to the scale of input data, such as gradient-based optimization algorithms used in deep learning and some distance-based algorithms."
      ]
    },
    {
      "cell_type": "code",
      "execution_count": 43,
      "metadata": {
        "id": "PVA1R1WQyZAZ"
      },
      "outputs": [],
      "source": [
        "x_train = x_train / 255.0\n",
        "x_test = x_test / 255.0"
      ]
    },
    {
      "cell_type": "markdown",
      "metadata": {
        "id": "6HOJMYoJ2foV"
      },
      "source": []
    },
    {
      "cell_type": "markdown",
      "metadata": {
        "id": "QbWo55U13Dl9"
      },
      "source": [
        "# **THE IMAGE CLASSIFICATION MODEL**\n",
        "\n",
        "1.   **ARTIFICAL NEURAL NETWORK (ANN)**\n",
        "2.   **CONVOLUTIONAL NEURAL NETWROK(CNN)**\n",
        "\n"
      ]
    },
    {
      "cell_type": "markdown",
      "metadata": {
        "id": "iSA_c-4A32xn"
      },
      "source": [
        "# **1. ARTIFICIAL NEURAL NETWORK MODEL**"
      ]
    },
    {
      "cell_type": "code",
      "execution_count": 44,
      "metadata": {
        "id": "LhJ0xdnFyZAZ",
        "outputId": "2e931231-17d1-468c-c79a-76701b41d7be"
      },
      "outputs": [
        {
          "name": "stdout",
          "output_type": "stream",
          "text": [
            "Epoch 1/20\n"
          ]
        },
        {
          "name": "stdout",
          "output_type": "stream",
          "text": [
            "128/128 [==============================] - 5s 34ms/step - loss: 1.4248 - accuracy: 0.3562\n",
            "Epoch 2/20\n",
            "128/128 [==============================] - 4s 34ms/step - loss: 1.2004 - accuracy: 0.4686\n",
            "Epoch 3/20\n",
            "128/128 [==============================] - 4s 33ms/step - loss: 1.1167 - accuracy: 0.5191\n",
            "Epoch 4/20\n",
            "128/128 [==============================] - 4s 33ms/step - loss: 1.0455 - accuracy: 0.5805\n",
            "Epoch 5/20\n",
            "128/128 [==============================] - 4s 33ms/step - loss: 0.9934 - accuracy: 0.6087\n",
            "Epoch 6/20\n",
            "128/128 [==============================] - 4s 33ms/step - loss: 0.9291 - accuracy: 0.6614\n",
            "Epoch 7/20\n",
            "128/128 [==============================] - 4s 33ms/step - loss: 0.9001 - accuracy: 0.6705\n",
            "Epoch 8/20\n",
            "128/128 [==============================] - 4s 33ms/step - loss: 0.8588 - accuracy: 0.6911\n",
            "Epoch 9/20\n",
            "128/128 [==============================] - 4s 33ms/step - loss: 0.8142 - accuracy: 0.7107\n",
            "Epoch 10/20\n",
            "128/128 [==============================] - 4s 33ms/step - loss: 0.7904 - accuracy: 0.7188\n",
            "Epoch 11/20\n",
            "128/128 [==============================] - 4s 33ms/step - loss: 0.7470 - accuracy: 0.7348\n",
            "Epoch 12/20\n",
            "128/128 [==============================] - 4s 33ms/step - loss: 0.6887 - accuracy: 0.7635\n",
            "Epoch 13/20\n",
            "128/128 [==============================] - 4s 33ms/step - loss: 0.6695 - accuracy: 0.7686\n",
            "Epoch 14/20\n",
            "128/128 [==============================] - 4s 33ms/step - loss: 0.6623 - accuracy: 0.7812\n",
            "Epoch 15/20\n",
            "128/128 [==============================] - 4s 34ms/step - loss: 0.6267 - accuracy: 0.7819\n",
            "Epoch 16/20\n",
            "128/128 [==============================] - 4s 33ms/step - loss: 0.5755 - accuracy: 0.8135\n",
            "Epoch 17/20\n",
            "128/128 [==============================] - 4s 34ms/step - loss: 0.5307 - accuracy: 0.8288\n",
            "Epoch 18/20\n",
            "128/128 [==============================] - 4s 34ms/step - loss: 0.5017 - accuracy: 0.8489\n",
            "Epoch 19/20\n",
            "128/128 [==============================] - 4s 33ms/step - loss: 0.4980 - accuracy: 0.8445\n",
            "Epoch 20/20\n",
            "128/128 [==============================] - 4s 34ms/step - loss: 0.4502 - accuracy: 0.8680\n"
          ]
        }
      ],
      "source": [
        "ann = models.Sequential([\n",
        "        layers.Flatten(input_shape=(32,32,3)),\n",
        "        layers.Dense(3000, activation='relu'),\n",
        "        layers.Dense(1000, activation='relu'),\n",
        "        layers.Dense(10, activation='softmax')\n",
        "    ])\n",
        "\n",
        "ann.compile(optimizer='SGD',\n",
        "              loss='sparse_categorical_crossentropy',\n",
        "              metrics=['accuracy'])\n",
        "\n",
        "\n",
        "\n",
        "ann_history = ann.fit(x_train, y_train, batch_size= 32,epochs=20)"
      ]
    },
    {
      "cell_type": "markdown",
      "metadata": {
        "id": "PQax2Gyu4F6V"
      },
      "source": [
        "# **2. CONVOLUTIONAL NEURAL NETWORK MODEL**"
      ]
    },
    {
      "cell_type": "code",
      "execution_count": 45,
      "metadata": {
        "id": "5OTTnHv5yZAa",
        "outputId": "a29f2e38-aaf4-40f1-c6e7-dc64e8926cde"
      },
      "outputs": [
        {
          "name": "stdout",
          "output_type": "stream",
          "text": [
            "Model: \"sequential_3\"\n",
            "_________________________________________________________________\n",
            " Layer (type)                Output Shape              Param #   \n"
          ]
        },
        {
          "name": "stdout",
          "output_type": "stream",
          "text": [
            "=================================================================\n",
            " conv2d_2 (Conv2D)           (None, 31, 31, 32)        416       \n",
            "                                                                 \n",
            " max_pooling2d_2 (MaxPoolin  (None, 15, 15, 32)        0         \n",
            " g2D)                                                            \n",
            "                                                                 \n",
            " conv2d_3 (Conv2D)           (None, 14, 14, 64)        8256      \n",
            "                                                                 \n",
            " max_pooling2d_3 (MaxPoolin  (None, 7, 7, 64)          0         \n",
            " g2D)                                                            \n",
            "                                                                 \n",
            " flatten_3 (Flatten)         (None, 3136)              0         \n",
            "                                                                 \n",
            " dense_8 (Dense)             (None, 128)               401536    \n",
            "                                                                 \n",
            " dense_9 (Dense)             (None, 10)                1290      \n",
            "                                                                 \n",
            "=================================================================\n",
            "Total params: 411498 (1.57 MB)\n",
            "Trainable params: 411498 (1.57 MB)\n",
            "Non-trainable params: 0 (0.00 Byte)\n",
            "_________________________________________________________________\n"
          ]
        }
      ],
      "source": [
        "import tensorflow as tf\n",
        "from tensorflow import keras\n",
        "from keras import layers\n",
        "\n",
        "cnn = keras.Sequential()\n",
        "\n",
        "cnn.add(layers.Conv2D(32, (2, 2), activation='relu', input_shape=(32, 32, 3)))\n",
        "cnn.add(layers.MaxPooling2D(2, 2))\n",
        "\n",
        "cnn.add(layers.Conv2D(64, (2, 2), activation='relu'))\n",
        "cnn.add(layers.MaxPooling2D(2, 2))\n",
        "\n",
        "cnn.add(layers.Flatten())\n",
        "\n",
        "cnn.add(layers.Dense(128, activation='relu'))\n",
        "\n",
        "cnn.add(layers.Dense(10, activation='softmax'))\n",
        "\n",
        "cnn.compile(optimizer='adam', loss='sparse_categorical_crossentropy', metrics=['accuracy'])\n",
        "\n",
        "cnn.summary()\n"
      ]
    },
    {
      "cell_type": "code",
      "execution_count": 46,
      "metadata": {
        "id": "Ih4IqfNYyZAa",
        "outputId": "c4e44051-6ab3-49e3-8f04-0c07fd602dd2"
      },
      "outputs": [
        {
          "name": "stdout",
          "output_type": "stream",
          "text": [
            "Epoch 1/20\n",
            "128/128 [==============================] - 2s 11ms/step - loss: 1.1301 - accuracy: 0.5132\n",
            "Epoch 2/20\n",
            "128/128 [==============================] - 1s 10ms/step - loss: 0.8317 - accuracy: 0.6899\n",
            "Epoch 3/20\n",
            "128/128 [==============================] - 1s 11ms/step - loss: 0.7219 - accuracy: 0.7363\n",
            "Epoch 4/20\n",
            "128/128 [==============================] - 1s 11ms/step - loss: 0.6262 - accuracy: 0.7706\n",
            "Epoch 5/20\n",
            "128/128 [==============================] - 1s 11ms/step - loss: 0.5616 - accuracy: 0.8045\n",
            "Epoch 6/20\n",
            "128/128 [==============================] - 1s 11ms/step - loss: 0.4907 - accuracy: 0.8292\n",
            "Epoch 7/20\n",
            "128/128 [==============================] - 1s 11ms/step - loss: 0.4187 - accuracy: 0.8553\n",
            "Epoch 8/20\n",
            "128/128 [==============================] - 1s 11ms/step - loss: 0.4057 - accuracy: 0.8550\n",
            "Epoch 9/20\n",
            "128/128 [==============================] - 2s 12ms/step - loss: 0.3205 - accuracy: 0.8950\n",
            "Epoch 10/20\n",
            "128/128 [==============================] - 2s 12ms/step - loss: 0.2628 - accuracy: 0.9149\n",
            "Epoch 11/20\n",
            "128/128 [==============================] - 2s 12ms/step - loss: 0.2361 - accuracy: 0.9227\n",
            "Epoch 12/20\n",
            "128/128 [==============================] - 2s 12ms/step - loss: 0.1755 - accuracy: 0.9475\n",
            "Epoch 13/20\n",
            "128/128 [==============================] - 1s 11ms/step - loss: 0.1461 - accuracy: 0.9593\n",
            "Epoch 14/20\n",
            "128/128 [==============================] - 1s 11ms/step - loss: 0.1143 - accuracy: 0.9706\n",
            "Epoch 15/20\n",
            "128/128 [==============================] - 1s 11ms/step - loss: 0.0999 - accuracy: 0.9752\n",
            "Epoch 16/20\n",
            "128/128 [==============================] - 1s 11ms/step - loss: 0.0882 - accuracy: 0.9772\n",
            "Epoch 17/20\n",
            "128/128 [==============================] - 1s 11ms/step - loss: 0.0417 - accuracy: 0.9958\n",
            "Epoch 18/20\n",
            "128/128 [==============================] - 1s 11ms/step - loss: 0.0397 - accuracy: 0.9936\n",
            "Epoch 19/20\n",
            "128/128 [==============================] - 1s 11ms/step - loss: 0.0300 - accuracy: 0.9971\n",
            "Epoch 20/20\n",
            "128/128 [==============================] - 1s 11ms/step - loss: 0.0268 - accuracy: 0.9966\n"
          ]
        }
      ],
      "source": [
        "cnn_hist = cnn.fit(x_train, y_train, epochs=20)"
      ]
    },
    {
      "cell_type": "markdown",
      "metadata": {
        "id": "QSCYQu2Z4fex"
      },
      "source": [
        "# **TRAINING ACCURACY AND REPRESENTING SOME RELEVANT GRAPHS**"
      ]
    },
    {
      "cell_type": "code",
      "execution_count": 47,
      "metadata": {
        "id": "OggDMfj4yZAb",
        "outputId": "793ebfbd-78ba-4b60-bd86-c0789619308e"
      },
      "outputs": [
        {
          "name": "stdout",
          "output_type": "stream",
          "text": [
            "32/32 [==============================] - 0s 4ms/step - loss: 0.5551 - accuracy: 0.8647\n",
            "86.47058606147766 %\n"
          ]
        }
      ],
      "source": [
        "cnn_test_loss, cnn_test_accuracy = cnn.evaluate(x_test, y_test)\n",
        "print(cnn_test_accuracy*100, \"%\")"
      ]
    },
    {
      "cell_type": "code",
      "execution_count": 48,
      "metadata": {
        "id": "bVcyZPVeyZAb",
        "outputId": "bb52cbad-bd1a-4778-a1e1-e98737844e85"
      },
      "outputs": [
        {
          "name": "stdout",
          "output_type": "stream",
          "text": [
            "32/32 [==============================] - 0s 8ms/step - loss: 0.7467 - accuracy: 0.7333\n",
            "Test Loss :  0.746696949005127\n",
            "Test Accuracy :  0.7333333492279053\n"
          ]
        }
      ],
      "source": [
        "test_loss, test_accuracy = ann.evaluate(x_test, y_test)\n",
        "\n",
        "print(\"Test Loss : \", test_loss)\n",
        "print(\"Test Accuracy : \", test_accuracy)"
      ]
    },
    {
      "cell_type": "code",
      "execution_count": 49,
      "metadata": {
        "id": "PZWvlvwEyZAb",
        "outputId": "ec7506f8-8239-4d23-f6d2-b4dedb741632"
      },
      "outputs": [
        {
          "name": "stdout",
          "output_type": "stream",
          "text": [
            "Test Loss: 0.746696949005127\n",
            "Test Accuracy: 73.33333492279053 %\n"
          ]
        },
        {
          "data": {
            "image/png": "[encoded data removed]",
            "text/plain": [
              "<Figure size 640x480 with 1 Axes>"
            ]
          },
          "metadata": {},
          "output_type": "display_data"
        }
      ],
      "source": [
        "print(\"Test Loss:\", test_loss)\n",
        "print(\"Test Accuracy:\", test_accuracy*100, \"%\")\n",
        "\n",
        "plt.plot(ann_history.history['accuracy'], label='Training Accuracy')\n",
        "plt.axhline(y=test_accuracy, color='r', linestyle='--', label='Test Accuracy')\n",
        "\n",
        "plt.xlabel('Epochs')\n",
        "plt.ylabel('Accuracy')\n",
        "plt.legend(loc='lower right')\n",
        "plt.title('Training and Test Accuracy for ANN')\n",
        "\n",
        "plt.show()"
      ]
    },
    {
      "cell_type": "code",
      "execution_count": 50,
      "metadata": {
        "id": "ae4yRHDhyZAc",
        "outputId": "bebc79d0-1305-490d-e7c0-4e8d383788c1"
      },
      "outputs": [
        {
          "name": "stdout",
          "output_type": "stream",
          "text": [
            "99.70559477806091\n"
          ]
        },
        {
          "data": {
            "image/png": "[encoded data removed]",
            "text/plain": [
              "<Figure size 640x480 with 1 Axes>"
            ]
          },
          "metadata": {},
          "output_type": "display_data"
        }
      ],
      "source": [
        "plt.plot(ann_history.history['accuracy'], label='ANN Training Accuracy')\n",
        "plt.plot(cnn_hist.history['accuracy'], label='CNN Training Accuracy')\n",
        "plt.axhline(y=test_accuracy, color='r', linestyle='--', label='Test ANN Accuracy')\n",
        "plt.axhline(y=cnn_test_accuracy, color='g', linestyle='--', label='Test CNN Accuracy')\n",
        "plt.xlabel('Epochs')\n",
        "plt.ylabel('Accuracy')\n",
        "plt.legend(loc='lower right')\n",
        "plt.title('Comparison of ANN and CNN Training Accuracy')\n",
        "\n",
        "print(max(cnn_hist.history['accuracy']) * 100)\n",
        "plt.show()"
      ]
    },
    {
      "cell_type": "code",
      "execution_count": 51,
      "metadata": {
        "id": "iIcA6B1JyZAc"
      },
      "outputs": [],
      "source": [
        "# model_5_epochs = ann.fit(x_train, y_train, epochs=5)\n",
        "# print(\"Trained for 5 epochs\")\n",
        "# model_20_epochs = ann.fit(x_train, y_train, epochs=20)\n",
        "# print(\"Trained for 20 epochs\")\n",
        "# plt.plot(model_5_epochs.history['accuracy'], label='5 Epochs')\n",
        "# plt.plot(model_20_epochs.history['accuracy'], label='20 Epochs')\n",
        "\n",
        "# plt.title('Model Accuracy Comparison')\n",
        "# plt.xlabel('Epoch')\n",
        "# plt.ylabel('Accuracy')\n",
        "# plt.legend(loc='lower right')\n",
        "# plt.show()\n",
        "\n",
        "# max_acc_5_epochs = max(model_5_epochs.history['accuracy'])\n",
        "# max_acc_20_epochs = max(model_20_epochs.history['accuracy'])\n",
        "# print(\"Maximum accuracy for 5 epochs : \", max_acc_5_epochs*100, \" %\")\n",
        "# print(\"Maximum accuracy for 20 epochs : \", max_acc_20_epochs*100, \" %\")\n"
      ]
    },
    {
      "cell_type": "markdown",
      "metadata": {
        "id": "_gIUSxWxyZAc"
      },
      "source": [
        "# **TESTING OUR TESTING DATASET**"
      ]
    },
    {
      "cell_type": "code",
      "execution_count": 52,
      "metadata": {
        "id": "4oLKBQCfyZAe",
        "outputId": "08020076-d8b5-4611-81e7-92a2e3d5ee9c"
      },
      "outputs": [
        {
          "name": "stdout",
          "output_type": "stream",
          "text": [
            "32/32 [==============================] - 0s 4ms/step\n"
          ]
        },
        {
          "data": {
            "text/plain": [
              "array([[9.94973898e-01, 2.71374616e-03, 3.07945738e-04, 2.00447091e-03,\n",
              "        8.62214328e-11, 6.79242704e-11, 3.57316399e-11, 7.50275883e-11,\n",
              "        1.42259199e-11, 1.25264715e-10],\n",
              "       [8.87429953e-01, 9.75386456e-07, 1.12569019e-01, 1.12104267e-07,\n",
              "        1.74294292e-12, 9.76688457e-13, 5.04227649e-12, 6.11711810e-12,\n",
              "        9.86991589e-14, 1.00553055e-11],\n",
              "       [9.91220891e-01, 4.52144956e-03, 4.25559562e-03, 2.10699886e-06,\n",
              "        7.57563109e-11, 3.22943283e-10, 2.02246220e-10, 1.60479532e-10,\n",
              "        5.36484086e-11, 7.59281971e-10],\n",
              "       [1.77201287e-06, 3.81634191e-09, 9.99994755e-01, 3.45287935e-06,\n",
              "        8.71559464e-15, 1.69956303e-15, 9.40039537e-15, 4.81496455e-14,\n",
              "        2.58977359e-16, 3.83303720e-14],\n",
              "       [6.79597184e-02, 1.54128395e-06, 9.32038248e-01, 5.10679172e-07,\n",
              "        1.35655734e-12, 2.13671377e-12, 4.87750682e-12, 6.71418086e-12,\n",
              "        8.88652623e-14, 7.57237589e-12]], dtype=float32)"
            ]
          },
          "execution_count": 52,
          "metadata": {},
          "output_type": "execute_result"
        }
      ],
      "source": [
        "y_pred = cnn.predict(x_test)\n",
        "y_pred[:5]\n"
      ]
    },
    {
      "cell_type": "code",
      "execution_count": 53,
      "metadata": {
        "id": "Ukw9LuYmyZAe",
        "outputId": "d020ab0c-e2c3-481a-d47e-524be57701fa"
      },
      "outputs": [
        {
          "data": {
            "text/plain": [
              "[0, 0, 0, 2, 2]"
            ]
          },
          "execution_count": 53,
          "metadata": {},
          "output_type": "execute_result"
        }
      ],
      "source": [
        "y_classes = [np.argmax(element) for element in y_pred]\n",
        "y_classes[:5]"
      ]
    },
    {
      "cell_type": "code",
      "execution_count": 54,
      "metadata": {
        "id": "efsAQNSGyZAe",
        "outputId": "ba215c99-e5d1-4259-ddf2-6773e215d0f8"
      },
      "outputs": [
        {
          "data": {
            "text/plain": [
              "array([0, 2, 0, 2, 0], dtype=uint8)"
            ]
          },
          "execution_count": 54,
          "metadata": {},
          "output_type": "execute_result"
        }
      ],
      "source": [
        "y_test[:5]"
      ]
    },
    {
      "cell_type": "code",
      "execution_count": 55,
      "metadata": {
        "id": "59t-3P5ryZAf",
        "outputId": "5072a1d2-a739-4529-a887-beb31b3687b0"
      },
      "outputs": [
        {
          "name": "stdout",
          "output_type": "stream",
          "text": [
            "0\n"
          ]
        },
        {
          "data": {
            "image/png": "[encoded data removed]",
            "text/plain": [
              "<Figure size 1500x200 with 1 Axes>"
            ]
          },
          "metadata": {},
          "output_type": "display_data"
        }
      ],
      "source": [
        "a= int(input(\"Enter index:\"))\n",
        "print(y_test[a])\n",
        "plot_sample(x_test, y_test, a)"
      ]
    },
    {
      "cell_type": "code",
      "execution_count": 56,
      "metadata": {
        "id": "Y2SAd0kkyZAf",
        "outputId": "e0e4f5d7-08b7-4360-e62f-08746232addb"
      },
      "outputs": [
        {
          "data": {
            "text/plain": [
              "'2'"
            ]
          },
          "execution_count": 56,
          "metadata": {},
          "output_type": "execute_result"
        }
      ],
      "source": [
        "classes[y_classes[3]]"
      ]
    },
    {
      "cell_type": "code",
      "execution_count": 57,
      "metadata": {
        "id": "DU6PCOevyZAf",
        "outputId": "c731ccc0-ea34-494d-dc9c-5e33795ada99"
      },
      "outputs": [
        {
          "name": "stdout",
          "output_type": "stream",
          "text": [
            "1\n"
          ]
        },
        {
          "data": {
            "image/png": "[encoded data removed]",
            "text/plain": [
              "<Figure size 1500x200 with 1 Axes>"
            ]
          },
          "metadata": {},
          "output_type": "display_data"
        }
      ],
      "source": [
        "a= int(input(\"Enter index:\"))\n",
        "print(y_test[a])\n",
        "plot_sample(x_test, y_test, a)"
      ]
    },
    {
      "cell_type": "code",
      "execution_count": 58,
      "metadata": {
        "id": "X8_-B8M-yZAf",
        "outputId": "2d826052-7104-4cf0-e5f0-7019a42e6968"
      },
      "outputs": [
        {
          "name": "stdout",
          "output_type": "stream",
          "text": [
            "3\n"
          ]
        },
        {
          "data": {
            "image/png": "[encoded data removed]",
            "text/plain": [
              "<Figure size 1500x200 with 1 Axes>"
            ]
          },
          "metadata": {},
          "output_type": "display_data"
        }
      ],
      "source": [
        "a= int(input(\"Enter index:\"))\n",
        "print(y_test[a])\n",
        "plot_sample(x_test, y_test, a)"
      ]
    },
    {
      "cell_type": "code",
      "execution_count": 59,
      "metadata": {
        "id": "TybhvjmLyZAg",
        "outputId": "da2f3f1f-9afe-4479-dd19-478bc9673dde"
      },
      "outputs": [
        {
          "name": "stdout",
          "output_type": "stream",
          "text": [
            "2\n"
          ]
        },
        {
          "data": {
            "image/png": "[encoded data removed]",
            "text/plain": [
              "<Figure size 1500x200 with 1 Axes>"
            ]
          },
          "metadata": {},
          "output_type": "display_data"
        }
      ],
      "source": [
        "a= int(input(\"Enter index:\"))\n",
        "print(y_test[a])\n",
        "plot_sample(x_test, y_test, a)"
      ]
    },
    {
      "cell_type": "code",
      "execution_count": 60,
      "metadata": {
        "id": "b1ysLzZkyZAg",
        "outputId": "41c765a1-d389-4138-b27d-e77cfe27deb6"
      },
      "outputs": [
        {
          "name": "stdout",
          "output_type": "stream",
          "text": [
            "1\n"
          ]
        },
        {
          "data": {
            "image/png": "[encoded data removed]",
            "text/plain": [
              "<Figure size 1500x200 with 1 Axes>"
            ]
          },
          "metadata": {},
          "output_type": "display_data"
        }
      ],
      "source": [
        "a= int(input(\"Enter index:\"))\n",
        "print(y_test[a])\n",
        "plot_sample(x_test, y_test, a)"
      ]
    }
  ],
  "metadata": {
    "colab": {
      "provenance": []
    },
    "kernelspec": {
      "display_name": "Python 3",
      "language": "python",
      "name": "python3"
    },
    "language_info": {
      "codemirror_mode": {
        "name": "ipython",
        "version": 3
      },
      "file_extension": ".py",
      "mimetype": "text/x-python",
      "name": "python",
      "nbconvert_exporter": "python",
      "pygments_lexer": "ipython3",
      "version": "3.10.10"
    }
  },
  "nbformat": 4,
  "nbformat_minor": 0
}
